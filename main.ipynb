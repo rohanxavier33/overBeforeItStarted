{
 "cells": [
  {
   "cell_type": "code",
   "execution_count": 51,
   "id": "948d3b2d",
   "metadata": {},
   "outputs": [],
   "source": [
    "import pandas as pd\n",
    "import numpy as np\n",
    "from scipy import stats\n",
    "import seaborn as sns  \n",
    "from statsmodels.stats.outliers_influence import variance_inflation_factor\n",
    "import matplotlib.pyplot as plt\n",
    "\n",
    "# Scikit-Learn modules for machine learning\n",
    "from sklearn.model_selection import train_test_split, GridSearchCV, cross_val_score\n",
    "from sklearn.linear_model import LogisticRegression\n",
    "from sklearn.metrics import accuracy_score, precision_score, recall_score, f1_score, roc_auc_score, classification_report, confusion_matrix, roc_curve, auc\n",
    "from sklearn.ensemble import RandomForestClassifier\n",
    "from sklearn.svm import SVC\n",
    "from sklearn.neighbors import KNeighborsClassifier"
   ]
  },
  {
   "cell_type": "code",
   "execution_count": 52,
   "id": "6476e8bd",
   "metadata": {},
   "outputs": [],
   "source": [
    "df = pd.read_csv('data/games.csv')"
   ]
  },
  {
   "cell_type": "code",
   "execution_count": 53,
   "id": "3726f595",
   "metadata": {},
   "outputs": [
    {
     "name": "stdout",
     "output_type": "stream",
     "text": [
      "<class 'pandas.core.frame.DataFrame'>\n",
      "RangeIndex: 20058 entries, 0 to 20057\n",
      "Data columns (total 16 columns):\n",
      " #   Column          Non-Null Count  Dtype  \n",
      "---  ------          --------------  -----  \n",
      " 0   id              20058 non-null  object \n",
      " 1   rated           20058 non-null  bool   \n",
      " 2   created_at      20058 non-null  float64\n",
      " 3   last_move_at    20058 non-null  float64\n",
      " 4   turns           20058 non-null  int64  \n",
      " 5   victory_status  20058 non-null  object \n",
      " 6   winner          20058 non-null  object \n",
      " 7   increment_code  20058 non-null  object \n",
      " 8   white_id        20058 non-null  object \n",
      " 9   white_rating    20058 non-null  int64  \n",
      " 10  black_id        20058 non-null  object \n",
      " 11  black_rating    20058 non-null  int64  \n",
      " 12  moves           20058 non-null  object \n",
      " 13  opening_eco     20058 non-null  object \n",
      " 14  opening_name    20058 non-null  object \n",
      " 15  opening_ply     20058 non-null  int64  \n",
      "dtypes: bool(1), float64(2), int64(4), object(9)\n",
      "memory usage: 2.3+ MB\n",
      "None\n"
     ]
    }
   ],
   "source": [
    "# Check the structure of the dataset\n",
    "print(df.info())"
   ]
  },
  {
   "cell_type": "code",
   "execution_count": 54,
   "id": "1a38815f",
   "metadata": {},
   "outputs": [
    {
     "name": "stdout",
     "output_type": "stream",
     "text": [
      "Dataset Shape: (20058, 16)\n",
      "\n",
      "Data Types:\n",
      "object     9\n",
      "int64      4\n",
      "float64    2\n",
      "bool       1\n",
      "Name: count, dtype: int64\n",
      "id: 19113 unique values\n",
      "victory_status: 4 unique values\n",
      "winner: 3 unique values\n",
      "increment_code: 400 unique values\n",
      "white_id: 9438 unique values\n",
      "black_id: 9331 unique values\n",
      "moves: 18920 unique values\n",
      "opening_eco: 365 unique values\n",
      "opening_name: 1477 unique values\n"
     ]
    }
   ],
   "source": [
    "# Dataset Shape and Data Types\n",
    "print(\"Dataset Shape:\", df.shape)\n",
    "print(\"\\nData Types:\")\n",
    "print(df.dtypes.value_counts())\n",
    "\n",
    "# Summary of numerical columns\n",
    "df.describe()\n",
    "\n",
    "# Count unique values in categorical columns\n",
    "categorical_columns = df.select_dtypes(include='object').columns\n",
    "for col in categorical_columns:\n",
    "    print(f\"{col}: {df[col].nunique()} unique values\")"
   ]
  },
  {
   "cell_type": "code",
   "execution_count": 55,
   "id": "9c3d8ec1",
   "metadata": {},
   "outputs": [
    {
     "name": "stdout",
     "output_type": "stream",
     "text": [
      "\n",
      "Victory Status Counts:\n",
      "victory_status\n",
      "resign       11147\n",
      "mate          6325\n",
      "outoftime     1680\n",
      "draw           906\n",
      "Name: count, dtype: int64\n"
     ]
    }
   ],
   "source": [
    "# What are the victory statuses?\n",
    "victory_counts = df['victory_status'].value_counts()\n",
    "print(\"\\nVictory Status Counts:\")\n",
    "print(victory_counts)"
   ]
  },
  {
   "cell_type": "code",
   "execution_count": 56,
   "id": "2b610a8d",
   "metadata": {},
   "outputs": [
    {
     "name": "stdout",
     "output_type": "stream",
     "text": [
      "id                0\n",
      "rated             0\n",
      "created_at        0\n",
      "last_move_at      0\n",
      "turns             0\n",
      "victory_status    0\n",
      "winner            0\n",
      "increment_code    0\n",
      "white_id          0\n",
      "white_rating      0\n",
      "black_id          0\n",
      "black_rating      0\n",
      "moves             0\n",
      "opening_eco       0\n",
      "opening_name      0\n",
      "opening_ply       0\n",
      "dtype: int64\n"
     ]
    }
   ],
   "source": [
    "# Check for missing values\n",
    "print(df.isnull().sum())"
   ]
  },
  {
   "cell_type": "code",
   "execution_count": 57,
   "id": "f87e7969",
   "metadata": {},
   "outputs": [
    {
     "name": "stdout",
     "output_type": "stream",
     "text": [
      "         id  rated    created_at  last_move_at  turns victory_status winner  \\\n",
      "0  TZJHLljE  False  1.504210e+12  1.504210e+12     13      outoftime  white   \n",
      "1  l1NXvwaE   True  1.504130e+12  1.504130e+12     16         resign  black   \n",
      "2  mIICvQHh   True  1.504130e+12  1.504130e+12     61           mate  white   \n",
      "3  kWKvrqYL   True  1.504110e+12  1.504110e+12     61           mate  white   \n",
      "4  9tXo1AUZ   True  1.504030e+12  1.504030e+12     95           mate  white   \n",
      "\n",
      "  increment_code       white_id  white_rating      black_id  black_rating  \\\n",
      "0           15+2       bourgris          1500          a-00          1191   \n",
      "1           5+10           a-00          1322     skinnerua          1261   \n",
      "2           5+10         ischia          1496          a-00          1500   \n",
      "3           20+0  daniamurashov          1439  adivanov2009          1454   \n",
      "4           30+3      nik221107          1523  adivanov2009          1469   \n",
      "\n",
      "                                               moves opening_eco  \\\n",
      "0  d4 d5 c4 c6 cxd5 e6 dxe6 fxe6 Nf3 Bb4+ Nc3 Ba5...         D10   \n",
      "1  d4 Nc6 e4 e5 f4 f6 dxe5 fxe5 fxe5 Nxe5 Qd4 Nc6...         B00   \n",
      "2  e4 e5 d3 d6 Be3 c6 Be2 b5 Nd2 a5 a4 c5 axb5 Nc...         C20   \n",
      "3  d4 d5 Nf3 Bf5 Nc3 Nf6 Bf4 Ng4 e3 Nc6 Be2 Qd7 O...         D02   \n",
      "4  e4 e5 Nf3 d6 d4 Nc6 d5 Nb4 a3 Na6 Nc3 Be7 b4 N...         C41   \n",
      "\n",
      "                             opening_name  opening_ply  \n",
      "0        Slav Defense: Exchange Variation            5  \n",
      "1  Nimzowitsch Defense: Kennedy Variation            4  \n",
      "2   King's Pawn Game: Leonardis Variation            3  \n",
      "3  Queen's Pawn Game: Zukertort Variation            3  \n",
      "4                        Philidor Defense            5  \n"
     ]
    }
   ],
   "source": [
    "# Preview the dataset\n",
    "print(df.head())"
   ]
  },
  {
   "cell_type": "code",
   "execution_count": 58,
   "id": "e4e5a76e",
   "metadata": {},
   "outputs": [],
   "source": [
    "# Drop columns that are not useful for modeling\n",
    "df_processed = df.drop(columns=['id', 'rated', 'created_at', 'last_move_at', 'white_id', 'black_id', 'moves', 'opening_name', 'victory_status', 'turns'])"
   ]
  },
  {
   "cell_type": "code",
   "execution_count": 59,
   "id": "cbef2436",
   "metadata": {},
   "outputs": [],
   "source": [
    "# Draws are not considered victories, so we can drop them\n",
    "df_processed = df_processed[df_processed['winner'] != 'draw']"
   ]
  },
  {
   "cell_type": "code",
   "execution_count": 60,
   "id": "9625ee8c",
   "metadata": {},
   "outputs": [],
   "source": [
    "# The 'winner' column has 3 outcomes. Let's map them to numbers.\n",
    "df_processed['winner'] = df['winner'].map({'white': 1, 'black': 0})"
   ]
  },
  {
   "cell_type": "code",
   "execution_count": 61,
   "id": "42e36fe5",
   "metadata": {},
   "outputs": [],
   "source": [
    "df_processed['rating_difference'] = df_processed['white_rating'] - df_processed['black_rating']\n",
    "\n",
    "# Now that we have the difference, the individual ratings are less important.\n",
    "# We can drop them to avoid multicollinearity.\n",
    "df_processed = df_processed.drop(columns=['white_rating', 'black_rating'])"
   ]
  },
  {
   "cell_type": "code",
   "execution_count": 62,
   "id": "3d033afa",
   "metadata": {},
   "outputs": [
    {
     "name": "stdout",
     "output_type": "stream",
     "text": [
      "opening_eco\n",
      "A00    968\n",
      "C00    806\n",
      "D00    701\n",
      "B01    690\n",
      "C41    663\n",
      "C20    654\n",
      "A40    599\n",
      "B00    583\n",
      "B20    543\n",
      "C50    508\n",
      "Name: count, dtype: int64\n"
     ]
    }
   ],
   "source": [
    "# Let's see the most common opening codes\n",
    "print(df_processed['opening_eco'].value_counts().head(10))"
   ]
  },
  {
   "cell_type": "code",
   "execution_count": 63,
   "id": "38e01fec",
   "metadata": {},
   "outputs": [
    {
     "name": "stdout",
     "output_type": "stream",
     "text": [
      "\n",
      "New number of unique opening ECOs: 184\n"
     ]
    }
   ],
   "source": [
    "# Group all openings that appear less than, say, 10 times into an 'Other' category\n",
    "opening_counts = df_processed['opening_eco'].value_counts()\n",
    "rare_openings = opening_counts[opening_counts < 10].index\n",
    "df_processed['opening_eco'] = df_processed['opening_eco'].replace(rare_openings, 'Other')\n",
    "\n",
    "print(f\"\\nNew number of unique opening ECOs: {df_processed['opening_eco'].nunique()}\")"
   ]
  },
  {
   "cell_type": "code",
   "execution_count": 64,
   "id": "1ac5a6a0",
   "metadata": {},
   "outputs": [],
   "source": [
    "# Create new columns for base time and increment. Handle cases with no increment.\n",
    "time_split = df['increment_code'].str.split('+', expand=True)\n",
    "df_processed['base_time_seconds'] = pd.to_numeric(time_split[0]) * 60\n",
    "df_processed['increment_seconds'] = pd.to_numeric(time_split[1])\n",
    "\n",
    "# Now you can drop the original increment_code column\n",
    "df_processed = df_processed.drop(columns=['increment_code'])"
   ]
  },
  {
   "cell_type": "code",
   "execution_count": 65,
   "id": "d246bd36",
   "metadata": {},
   "outputs": [],
   "source": [
    "# Create the features (X) and target (y)\n",
    "X = df_processed.drop('winner', axis=1)\n",
    "y = df_processed['winner']\n",
    "\n",
    "# Convert categorical variables into dummy/indicator variables\n",
    "X = pd.get_dummies(X, columns=['opening_eco'], drop_first=True)"
   ]
  },
  {
   "cell_type": "code",
   "execution_count": 66,
   "id": "ef97442e",
   "metadata": {},
   "outputs": [
    {
     "name": "stdout",
     "output_type": "stream",
     "text": [
      "Training set shape: (15286, 187)\n",
      "Testing set shape: (3822, 187)\n"
     ]
    }
   ],
   "source": [
    "# Split data into 80% training and 20% testing\n",
    "X_train, X_test, y_train, y_test = train_test_split(X, y, test_size=0.2, random_state=42, stratify=y)\n",
    "\n",
    "print(\"Training set shape:\", X_train.shape)\n",
    "print(\"Testing set shape:\", X_test.shape)"
   ]
  },
  {
   "cell_type": "code",
   "execution_count": 67,
   "id": "0e40a2f4",
   "metadata": {},
   "outputs": [
    {
     "name": "stdout",
     "output_type": "stream",
     "text": [
      "Baseline Accuracy: 0.6428571428571429\n"
     ]
    }
   ],
   "source": [
    "# Baseline: Predict winner based only on rating difference\n",
    "# 1 if white has higher rating, 0 if black has higher rating\n",
    "baseline_preds = (X_test['rating_difference'] > 0).astype(int)\n",
    "\n",
    "# Evaluate the baseline\n",
    "print(\"Baseline Accuracy:\", accuracy_score(y_test, baseline_preds))"
   ]
  },
  {
   "cell_type": "code",
   "execution_count": 68,
   "id": "4d348add",
   "metadata": {},
   "outputs": [
    {
     "name": "stdout",
     "output_type": "stream",
     "text": [
      "\n",
      "Logistic Regression Performance:\n",
      "              precision    recall  f1-score   support\n",
      "\n",
      "         0.0       0.64      0.59      0.61      1822\n",
      "         1.0       0.65      0.70      0.67      2000\n",
      "\n",
      "    accuracy                           0.64      3822\n",
      "   macro avg       0.64      0.64      0.64      3822\n",
      "weighted avg       0.64      0.64      0.64      3822\n",
      "\n"
     ]
    },
    {
     "data": {
      "image/png": "[encoded data removed]",
      "text/plain": [
       "<Figure size 640x480 with 2 Axes>"
      ]
     },
     "metadata": {},
     "output_type": "display_data"
    }
   ],
   "source": [
    "# Initialize and train the Logistic Regression model\n",
    "log_reg = LogisticRegression(max_iter=10000) # max_iter might be needed for convergence\n",
    "log_reg.fit(X_train, y_train)\n",
    "\n",
    "# Make predictions\n",
    "y_pred_log = log_reg.predict(X_test)\n",
    "\n",
    "# Evaluate the model\n",
    "print(\"\\nLogistic Regression Performance:\")\n",
    "print(classification_report(y_test, y_pred_log))\n",
    "\n",
    "# Visualize the Confusion Matrix\n",
    "cm = confusion_matrix(y_test, y_pred_log)\n",
    "sns.heatmap(cm, annot=True, fmt='d', xticklabels=['Black', 'Draw', 'White'], yticklabels=['Black', 'Draw', 'White'])\n",
    "plt.ylabel('Actual')\n",
    "plt.xlabel('Predicted')\n",
    "plt.title('Logistic Regression Confusion Matrix')\n",
    "plt.show()"
   ]
  },
  {
   "cell_type": "code",
   "execution_count": 69,
   "id": "ac6e1d14",
   "metadata": {},
   "outputs": [
    {
     "name": "stdout",
     "output_type": "stream",
     "text": [
      "\n",
      "Random Forest Performance:\n",
      "              precision    recall  f1-score   support\n",
      "\n",
      "         0.0       0.63      0.62      0.63      1822\n",
      "         1.0       0.66      0.67      0.66      2000\n",
      "\n",
      "    accuracy                           0.65      3822\n",
      "   macro avg       0.65      0.65      0.65      3822\n",
      "weighted avg       0.65      0.65      0.65      3822\n",
      "\n"
     ]
    },
    {
     "data": {
      "image/png": "[encoded data removed]",
      "text/plain": [
       "<Figure size 640x480 with 2 Axes>"
      ]
     },
     "metadata": {},
     "output_type": "display_data"
    }
   ],
   "source": [
    "# Initialize and train the Random Forest model\n",
    "rf_clf = RandomForestClassifier(n_estimators=100, random_state=3, n_jobs=-1)\n",
    "rf_clf.fit(X_train, y_train)\n",
    "\n",
    "# Make predictions\n",
    "y_pred_rf = rf_clf.predict(X_test)\n",
    "\n",
    "# Evaluate the model\n",
    "print(\"\\nRandom Forest Performance:\")\n",
    "print(classification_report(y_test, y_pred_rf))\n",
    "\n",
    "# Visualize the Confusion Matrix\n",
    "cm_rf = confusion_matrix(y_test, y_pred_rf)\n",
    "sns.heatmap(cm_rf, annot=True, fmt='d', xticklabels=['Black', 'Draw', 'White'], yticklabels=['Black', 'Draw', 'White'])\n",
    "plt.ylabel('Actual')\n",
    "plt.xlabel('Predicted')\n",
    "plt.title('Random Forest Confusion Matrix')\n",
    "plt.show()"
   ]
  },
  {
   "cell_type": "code",
   "execution_count": 70,
   "id": "b46b8548",
   "metadata": {},
   "outputs": [
    {
     "data": {
      "image/png": "[encoded data removed]",
      "text/plain": [
       "<Figure size 1000x800 with 1 Axes>"
      ]
     },
     "metadata": {},
     "output_type": "display_data"
    }
   ],
   "source": [
    "# Extract feature importances from the trained Random Forest model\n",
    "importances = rf_clf.feature_importances_\n",
    "feature_names = X_train.columns\n",
    "\n",
    "# Create a DataFrame for visualization\n",
    "feature_importance_df = pd.DataFrame({'feature': feature_names, 'importance': importances})\n",
    "\n",
    "# Sort by importance and plot the top 20 features\n",
    "top_20_features = feature_importance_df.sort_values(by='importance', ascending=False).head(20)\n",
    "\n",
    "plt.figure(figsize=(10, 8))\n",
    "sns.barplot(x='importance', y='feature', data=top_20_features)\n",
    "plt.title('Top 20 Feature Importances from Random Forest')\n",
    "plt.show()"
   ]
  },
  {
   "cell_type": "code",
   "execution_count": 71,
   "id": "62bd20a4",
   "metadata": {},
   "outputs": [
    {
     "name": "stdout",
     "output_type": "stream",
     "text": [
      "\n",
      "Random Forest Performance with SMOTE:\n",
      "              precision    recall  f1-score   support\n",
      "\n",
      "         0.0       0.62      0.66      0.64      1822\n",
      "         1.0       0.67      0.63      0.65      2000\n",
      "\n",
      "    accuracy                           0.64      3822\n",
      "   macro avg       0.64      0.64      0.64      3822\n",
      "weighted avg       0.64      0.64      0.64      3822\n",
      "\n"
     ]
    }
   ],
   "source": [
    "from imblearn.over_sampling import SMOTE\n",
    "from imblearn.pipeline import Pipeline\n",
    "\n",
    "# Define the model\n",
    "rf_model = RandomForestClassifier(n_estimators=100, random_state=42, n_jobs=-1)\n",
    "\n",
    "# Define the SMOTE strategy\n",
    "smote = SMOTE(random_state=42)\n",
    "\n",
    "# Create a pipeline that first applies SMOTE and then trains the classifier\n",
    "pipeline = Pipeline([('smote', smote), ('classifier', rf_model)])\n",
    "\n",
    "# Train the model using the pipeline\n",
    "pipeline.fit(X_train, y_train)\n",
    "\n",
    "# Make predictions\n",
    "y_pred_smote = pipeline.predict(X_test)\n",
    "\n",
    "# Evaluate the SMOTE model\n",
    "print(\"\\nRandom Forest Performance with SMOTE:\")\n",
    "print(classification_report(y_test, y_pred_smote))"
   ]
  },
  {
   "cell_type": "code",
   "execution_count": 72,
   "id": "85e9f740",
   "metadata": {},
   "outputs": [
    {
     "name": "stdout",
     "output_type": "stream",
     "text": [
      "Fitting 3 folds for each of 18 candidates, totalling 54 fits\n",
      "\n",
      "Best Parameters found by Grid Search: {'class_weight': 'balanced', 'max_depth': 20, 'min_samples_leaf': 1, 'n_estimators': 200}\n",
      "Best macro F1-score on validation set: 0.6513071384442081\n",
      "\n",
      "Final Tuned Random Forest Performance:\n",
      "              precision    recall  f1-score   support\n",
      "\n",
      "         0.0       0.61      0.71      0.66      1822\n",
      "         1.0       0.69      0.58      0.63      2000\n",
      "\n",
      "    accuracy                           0.64      3822\n",
      "   macro avg       0.65      0.65      0.64      3822\n",
      "weighted avg       0.65      0.64      0.64      3822\n",
      "\n"
     ]
    }
   ],
   "source": [
    "# Define the parameter grid to search\n",
    "param_grid = {\n",
    "    'n_estimators': [100, 200],\n",
    "    'max_depth': [10, 20, None],\n",
    "    'min_samples_leaf': [1, 2, 4],\n",
    "    'class_weight': ['balanced'] # Keep the balanced setting!\n",
    "}\n",
    "\n",
    "# Initialize the Grid Search\n",
    "# Using n_jobs=-1 will use all your CPU cores to speed it up\n",
    "grid_search = GridSearchCV(estimator=RandomForestClassifier(random_state=42),\n",
    "                           param_grid=param_grid,\n",
    "                           cv=3, # 3-fold cross-validation\n",
    "                           n_jobs=-1,\n",
    "                           verbose=2,\n",
    "                           scoring='f1_macro') # 'f1_macro' is a great metric for imbalanced classes\n",
    "\n",
    "# Fit the grid search to the data\n",
    "grid_search.fit(X_train, y_train)\n",
    "\n",
    "# Get the best parameters and best score\n",
    "print(\"\\nBest Parameters found by Grid Search:\", grid_search.best_params_)\n",
    "print(\"Best macro F1-score on validation set:\", grid_search.best_score_)\n",
    "\n",
    "# Evaluate the best model on the test set\n",
    "best_rf = grid_search.best_estimator_\n",
    "y_pred_best = best_rf.predict(X_test)\n",
    "\n",
    "print(\"\\nFinal Tuned Random Forest Performance:\")\n",
    "print(classification_report(y_test, y_pred_best))"
   ]
  },
  {
   "cell_type": "code",
   "execution_count": 73,
   "id": "10df159c",
   "metadata": {},
   "outputs": [
    {
     "name": "stdout",
     "output_type": "stream",
     "text": [
      "\n",
      "Final Scaled & Tuned Random Forest Performance:\n",
      "              precision    recall  f1-score   support\n",
      "\n",
      "         0.0       0.63      0.63      0.63      1822\n",
      "         1.0       0.66      0.66      0.66      2000\n",
      "\n",
      "    accuracy                           0.65      3822\n",
      "   macro avg       0.65      0.65      0.65      3822\n",
      "weighted avg       0.65      0.65      0.65      3822\n",
      "\n"
     ]
    }
   ],
   "source": [
    "from sklearn.preprocessing import StandardScaler\n",
    "from sklearn.pipeline import Pipeline\n",
    "\n",
    "# Create a pipeline that first scales the data, then runs the classifier.\n",
    "# We'll use your best Random Forest parameters from the Grid Search.\n",
    "pipeline_final = Pipeline([\n",
    "    ('scaler', StandardScaler()),\n",
    "    ('classifier', RandomForestClassifier(class_weight='balanced', \n",
    "                                         max_depth=None, \n",
    "                                         min_samples_leaf=2, \n",
    "                                         n_estimators=100,\n",
    "                                         random_state=42, \n",
    "                                         n_jobs=-1))\n",
    "])\n",
    "\n",
    "# Train the final pipeline\n",
    "pipeline_final.fit(X_train, y_train)\n",
    "\n",
    "# Evaluate the final model\n",
    "y_pred_final = pipeline_final.predict(X_test)\n",
    "\n",
    "print(\"\\nFinal Scaled & Tuned Random Forest Performance:\")\n",
    "print(classification_report(y_test, y_pred_final))"
   ]
  },
  {
   "cell_type": "code",
   "execution_count": 74,
   "id": "6fe0dd84",
   "metadata": {},
   "outputs": [
    {
     "name": "stdout",
     "output_type": "stream",
     "text": [
      "Training XGBoost model...\n",
      "\n",
      "Evaluating XGBoost model...\n",
      "\n",
      "XGBoost Performance:\n",
      "              precision    recall  f1-score   support\n",
      "\n",
      "         0.0       0.64      0.59      0.61      1822\n",
      "         1.0       0.65      0.69      0.67      2000\n",
      "\n",
      "    accuracy                           0.64      3822\n",
      "   macro avg       0.64      0.64      0.64      3822\n",
      "weighted avg       0.64      0.64      0.64      3822\n",
      "\n"
     ]
    },
    {
     "name": "stderr",
     "output_type": "stream",
     "text": [
      "c:\\Users\\RohanGupta\\AppData\\Local\\Programs\\Python\\Python313\\Lib\\site-packages\\xgboost\\training.py:183: UserWarning: [13:09:39] WARNING: C:\\actions-runner\\_work\\xgboost\\xgboost\\src\\learner.cc:738: \n",
      "Parameters: { \"use_label_encoder\" } are not used.\n",
      "\n",
      "  bst.update(dtrain, iteration=i, fobj=obj)\n"
     ]
    }
   ],
   "source": [
    "from xgboost import XGBClassifier\n",
    "from sklearn.pipeline import Pipeline\n",
    "from sklearn.preprocessing import StandardScaler\n",
    "from sklearn.metrics import classification_report\n",
    "\n",
    "# Create a pipeline that first scales the data, then runs the XGBoost classifier.\n",
    "# We include two common parameters to ensure smooth operation.\n",
    "pipeline_xgb = Pipeline([\n",
    "    ('scaler', StandardScaler()),\n",
    "    ('classifier', XGBClassifier(random_state=42, use_label_encoder=False, eval_metric='mlogloss'))\n",
    "])\n",
    "\n",
    "# Train the XGBoost model on your data\n",
    "print(\"Training XGBoost model...\")\n",
    "pipeline_xgb.fit(X_train, y_train)\n",
    "\n",
    "# Evaluate the XGBoost model\n",
    "print(\"\\nEvaluating XGBoost model...\")\n",
    "y_pred_xgb = pipeline_xgb.predict(X_test)\n",
    "\n",
    "print(\"\\nXGBoost Performance:\")\n",
    "print(classification_report(y_test, y_pred_xgb))"
   ]
  },
  {
   "cell_type": "code",
   "execution_count": 75,
   "id": "5b939225",
   "metadata": {},
   "outputs": [
    {
     "name": "stdout",
     "output_type": "stream",
     "text": [
      "[LightGBM] [Info] Number of positive: 8001, number of negative: 7285\n",
      "[LightGBM] [Info] Auto-choosing row-wise multi-threading, the overhead of testing was 0.002096 seconds.\n",
      "You can set `force_row_wise=true` to remove the overhead.\n",
      "And if memory is not enough, you can set `force_col_wise=true`.\n",
      "[LightGBM] [Info] Total Bins 691\n",
      "[LightGBM] [Info] Number of data points in the train set: 15286, number of used features: 121\n",
      "[LightGBM] [Info] [binary:BoostFromScore]: pavg=0.500000 -> initscore=-0.000000\n",
      "[LightGBM] [Info] Start training from score -0.000000\n",
      "\n",
      "LightGBM Performance:\n",
      "              precision    recall  f1-score   support\n",
      "\n",
      "         0.0       0.62      0.65      0.64      1822\n",
      "         1.0       0.67      0.63      0.65      2000\n",
      "\n",
      "    accuracy                           0.64      3822\n",
      "   macro avg       0.64      0.64      0.64      3822\n",
      "weighted avg       0.64      0.64      0.64      3822\n",
      "\n"
     ]
    },
    {
     "name": "stderr",
     "output_type": "stream",
     "text": [
      "c:\\Users\\RohanGupta\\AppData\\Local\\Programs\\Python\\Python313\\Lib\\site-packages\\sklearn\\utils\\validation.py:2739: UserWarning: X does not have valid feature names, but LGBMClassifier was fitted with feature names\n",
      "  warnings.warn(\n"
     ]
    }
   ],
   "source": [
    "import lightgbm as lgb\n",
    "\n",
    "# Initialize and train a LightGBM model\n",
    "# It also supports class_weight='balanced'\n",
    "lgbm = lgb.LGBMClassifier(class_weight='balanced', random_state=42)\n",
    "\n",
    "# We can put this in the same scaling pipeline\n",
    "pipeline_lgbm = Pipeline([\n",
    "    ('scaler', StandardScaler()),\n",
    "    ('classifier', lgbm)\n",
    "])\n",
    "\n",
    "pipeline_lgbm.fit(X_train, y_train)\n",
    "\n",
    "# Evaluate the LightGBM model\n",
    "y_pred_lgbm = pipeline_lgbm.predict(X_test)\n",
    "\n",
    "print(\"\\nLightGBM Performance:\")\n",
    "print(classification_report(y_test, y_pred_lgbm))"
   ]
  }
 ],
 "metadata": {
  "kernelspec": {
   "display_name": "Python 3",
   "language": "python",
   "name": "python3"
  },
  "language_info": {
   "codemirror_mode": {
    "name": "ipython",
    "version": 3
   },
   "file_extension": ".py",
   "mimetype": "text/x-python",
   "name": "python",
   "nbconvert_exporter": "python",
   "pygments_lexer": "ipython3",
   "version": "3.13.3"
  }
 },
 "nbformat": 4,
 "nbformat_minor": 5
}
