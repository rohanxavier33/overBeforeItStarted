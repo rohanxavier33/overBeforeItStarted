{
 "cells": [
  {
   "cell_type": "code",
   "execution_count": 1,
   "id": "948d3b2d",
   "metadata": {},
   "outputs": [],
   "source": [
    "import pandas as pd\n",
    "import numpy as np\n",
    "from scipy import stats\n",
    "import seaborn as sns  \n",
    "from statsmodels.stats.outliers_influence import variance_inflation_factor\n",
    "import matplotlib.pyplot as plt\n",
    "\n",
    "# Scikit-Learn modules for machine learning\n",
    "from sklearn.model_selection import train_test_split, GridSearchCV, cross_val_score\n",
    "from sklearn.linear_model import LogisticRegression\n",
    "from sklearn.metrics import accuracy_score, precision_score, recall_score, f1_score, roc_auc_score, classification_report, confusion_matrix, roc_curve, auc\n",
    "from sklearn.ensemble import RandomForestClassifier\n",
    "from sklearn.svm import SVC\n",
    "from sklearn.neighbors import KNeighborsClassifier"
   ]
  },
  {
   "cell_type": "code",
   "execution_count": 2,
   "id": "6476e8bd",
   "metadata": {},
   "outputs": [],
   "source": [
    "df = pd.read_csv('data/games.csv')"
   ]
  },
  {
   "cell_type": "code",
   "execution_count": 3,
   "id": "3726f595",
   "metadata": {},
   "outputs": [
    {
     "name": "stdout",
     "output_type": "stream",
     "text": [
      "<class 'pandas.core.frame.DataFrame'>\n",
      "RangeIndex: 20058 entries, 0 to 20057\n",
      "Data columns (total 16 columns):\n",
      " #   Column          Non-Null Count  Dtype  \n",
      "---  ------          --------------  -----  \n",
      " 0   id              20058 non-null  object \n",
      " 1   rated           20058 non-null  bool   \n",
      " 2   created_at      20058 non-null  float64\n",
      " 3   last_move_at    20058 non-null  float64\n",
      " 4   turns           20058 non-null  int64  \n",
      " 5   victory_status  20058 non-null  object \n",
      " 6   winner          20058 non-null  object \n",
      " 7   increment_code  20058 non-null  object \n",
      " 8   white_id        20058 non-null  object \n",
      " 9   white_rating    20058 non-null  int64  \n",
      " 10  black_id        20058 non-null  object \n",
      " 11  black_rating    20058 non-null  int64  \n",
      " 12  moves           20058 non-null  object \n",
      " 13  opening_eco     20058 non-null  object \n",
      " 14  opening_name    20058 non-null  object \n",
      " 15  opening_ply     20058 non-null  int64  \n",
      "dtypes: bool(1), float64(2), int64(4), object(9)\n",
      "memory usage: 2.3+ MB\n",
      "None\n"
     ]
    }
   ],
   "source": [
    "# Check the structure of the dataset\n",
    "print(df.info())"
   ]
  },
  {
   "cell_type": "code",
   "execution_count": 4,
   "id": "1a38815f",
   "metadata": {},
   "outputs": [
    {
     "name": "stdout",
     "output_type": "stream",
     "text": [
      "Dataset Shape: (20058, 16)\n",
      "\n",
      "Data Types:\n",
      "object     9\n",
      "int64      4\n",
      "float64    2\n",
      "bool       1\n",
      "Name: count, dtype: int64\n",
      "id: 19113 unique values\n",
      "victory_status: 4 unique values\n",
      "winner: 3 unique values\n",
      "increment_code: 400 unique values\n",
      "white_id: 9438 unique values\n",
      "black_id: 9331 unique values\n",
      "moves: 18920 unique values\n",
      "opening_eco: 365 unique values\n",
      "opening_name: 1477 unique values\n"
     ]
    }
   ],
   "source": [
    "# Dataset Shape and Data Types\n",
    "print(\"Dataset Shape:\", df.shape)\n",
    "print(\"\\nData Types:\")\n",
    "print(df.dtypes.value_counts())\n",
    "\n",
    "# Summary of numerical columns\n",
    "df.describe()\n",
    "\n",
    "# Count unique values in categorical columns\n",
    "categorical_columns = df.select_dtypes(include='object').columns\n",
    "for col in categorical_columns:\n",
    "    print(f\"{col}: {df[col].nunique()} unique values\")"
   ]
  },
  {
   "cell_type": "code",
   "execution_count": 5,
   "id": "9c3d8ec1",
   "metadata": {},
   "outputs": [
    {
     "name": "stdout",
     "output_type": "stream",
     "text": [
      "\n",
      "Victory Status Counts:\n",
      "victory_status\n",
      "resign       11147\n",
      "mate          6325\n",
      "outoftime     1680\n",
      "draw           906\n",
      "Name: count, dtype: int64\n"
     ]
    }
   ],
   "source": [
    "# What are the victory statuses?\n",
    "victory_counts = df['victory_status'].value_counts()\n",
    "print(\"\\nVictory Status Counts:\")\n",
    "print(victory_counts)"
   ]
  },
  {
   "cell_type": "code",
   "execution_count": 6,
   "id": "2b610a8d",
   "metadata": {},
   "outputs": [
    {
     "name": "stdout",
     "output_type": "stream",
     "text": [
      "id                0\n",
      "rated             0\n",
      "created_at        0\n",
      "last_move_at      0\n",
      "turns             0\n",
      "victory_status    0\n",
      "winner            0\n",
      "increment_code    0\n",
      "white_id          0\n",
      "white_rating      0\n",
      "black_id          0\n",
      "black_rating      0\n",
      "moves             0\n",
      "opening_eco       0\n",
      "opening_name      0\n",
      "opening_ply       0\n",
      "dtype: int64\n"
     ]
    }
   ],
   "source": [
    "# Check for missing values\n",
    "print(df.isnull().sum())"
   ]
  },
  {
   "cell_type": "code",
   "execution_count": 7,
   "id": "f87e7969",
   "metadata": {},
   "outputs": [
    {
     "name": "stdout",
     "output_type": "stream",
     "text": [
      "         id  rated    created_at  last_move_at  turns victory_status winner  \\\n",
      "0  TZJHLljE  False  1.504210e+12  1.504210e+12     13      outoftime  white   \n",
      "1  l1NXvwaE   True  1.504130e+12  1.504130e+12     16         resign  black   \n",
      "2  mIICvQHh   True  1.504130e+12  1.504130e+12     61           mate  white   \n",
      "3  kWKvrqYL   True  1.504110e+12  1.504110e+12     61           mate  white   \n",
      "4  9tXo1AUZ   True  1.504030e+12  1.504030e+12     95           mate  white   \n",
      "\n",
      "  increment_code       white_id  white_rating      black_id  black_rating  \\\n",
      "0           15+2       bourgris          1500          a-00          1191   \n",
      "1           5+10           a-00          1322     skinnerua          1261   \n",
      "2           5+10         ischia          1496          a-00          1500   \n",
      "3           20+0  daniamurashov          1439  adivanov2009          1454   \n",
      "4           30+3      nik221107          1523  adivanov2009          1469   \n",
      "\n",
      "                                               moves opening_eco  \\\n",
      "0  d4 d5 c4 c6 cxd5 e6 dxe6 fxe6 Nf3 Bb4+ Nc3 Ba5...         D10   \n",
      "1  d4 Nc6 e4 e5 f4 f6 dxe5 fxe5 fxe5 Nxe5 Qd4 Nc6...         B00   \n",
      "2  e4 e5 d3 d6 Be3 c6 Be2 b5 Nd2 a5 a4 c5 axb5 Nc...         C20   \n",
      "3  d4 d5 Nf3 Bf5 Nc3 Nf6 Bf4 Ng4 e3 Nc6 Be2 Qd7 O...         D02   \n",
      "4  e4 e5 Nf3 d6 d4 Nc6 d5 Nb4 a3 Na6 Nc3 Be7 b4 N...         C41   \n",
      "\n",
      "                             opening_name  opening_ply  \n",
      "0        Slav Defense: Exchange Variation            5  \n",
      "1  Nimzowitsch Defense: Kennedy Variation            4  \n",
      "2   King's Pawn Game: Leonardis Variation            3  \n",
      "3  Queen's Pawn Game: Zukertort Variation            3  \n",
      "4                        Philidor Defense            5  \n"
     ]
    }
   ],
   "source": [
    "# Preview the dataset\n",
    "print(df.head())"
   ]
  },
  {
   "cell_type": "code",
   "execution_count": 8,
   "id": "e4e5a76e",
   "metadata": {},
   "outputs": [],
   "source": [
    "# Drop columns that are not useful for modeling\n",
    "df_processed = df.drop(columns=['id', 'rated', 'created_at', 'last_move_at', 'white_id', 'black_id', 'moves', 'opening_name', 'victory_status', 'turns'])"
   ]
  },
  {
   "cell_type": "code",
   "execution_count": 9,
   "id": "cbef2436",
   "metadata": {},
   "outputs": [],
   "source": [
    "# Draws are not considered victories, so we can drop them\n",
    "df_processed = df_processed[df_processed['winner'] != 'draw']"
   ]
  },
  {
   "cell_type": "code",
   "execution_count": 10,
   "id": "9625ee8c",
   "metadata": {},
   "outputs": [],
   "source": [
    "# The 'winner' column has 3 outcomes. Let's map them to numbers.\n",
    "df_processed['winner'] = df['winner'].map({'white': 1, 'black': -1})"
   ]
  },
  {
   "cell_type": "code",
   "execution_count": 11,
   "id": "42e36fe5",
   "metadata": {},
   "outputs": [],
   "source": [
    "df_processed['rating_difference'] = df_processed['white_rating'] - df_processed['black_rating']\n",
    "\n",
    "# Now that we have the difference, the individual ratings are less important.\n",
    "# We can drop them to avoid multicollinearity.\n",
    "df_processed = df_processed.drop(columns=['white_rating', 'black_rating'])"
   ]
  },
  {
   "cell_type": "code",
   "execution_count": 12,
   "id": "3d033afa",
   "metadata": {},
   "outputs": [
    {
     "name": "stdout",
     "output_type": "stream",
     "text": [
      "opening_eco\n",
      "A00    968\n",
      "C00    806\n",
      "D00    701\n",
      "B01    690\n",
      "C41    663\n",
      "C20    654\n",
      "A40    599\n",
      "B00    583\n",
      "B20    543\n",
      "C50    508\n",
      "Name: count, dtype: int64\n"
     ]
    }
   ],
   "source": [
    "# Let's see the most common opening codes\n",
    "print(df_processed['opening_eco'].value_counts().head(10))"
   ]
  },
  {
   "cell_type": "code",
   "execution_count": 13,
   "id": "38e01fec",
   "metadata": {},
   "outputs": [
    {
     "name": "stdout",
     "output_type": "stream",
     "text": [
      "\n",
      "New number of unique opening ECOs: 184\n"
     ]
    }
   ],
   "source": [
    "# Group all openings that appear less than, say, 10 times into an 'Other' category\n",
    "opening_counts = df_processed['opening_eco'].value_counts()\n",
    "rare_openings = opening_counts[opening_counts < 10].index\n",
    "df_processed['opening_eco'] = df_processed['opening_eco'].replace(rare_openings, 'Other')\n",
    "\n",
    "print(f\"\\nNew number of unique opening ECOs: {df_processed['opening_eco'].nunique()}\")"
   ]
  },
  {
   "cell_type": "code",
   "execution_count": 14,
   "id": "1ac5a6a0",
   "metadata": {},
   "outputs": [],
   "source": [
    "# Create new columns for base time and increment. Handle cases with no increment.\n",
    "time_split = df['increment_code'].str.split('+', expand=True)\n",
    "df_processed['base_time_seconds'] = pd.to_numeric(time_split[0]) * 60\n",
    "df_processed['increment_seconds'] = pd.to_numeric(time_split[1])\n",
    "\n",
    "# Now you can drop the original increment_code column\n",
    "df_processed = df_processed.drop(columns=['increment_code'])"
   ]
  },
  {
   "cell_type": "code",
   "execution_count": 15,
   "id": "d246bd36",
   "metadata": {},
   "outputs": [],
   "source": [
    "# Create the features (X) and target (y)\n",
    "X = df_processed.drop('winner', axis=1)\n",
    "y = df_processed['winner']\n",
    "\n",
    "# Convert categorical variables into dummy/indicator variables\n",
    "X = pd.get_dummies(X, columns=['opening_eco'], drop_first=True)"
   ]
  },
  {
   "cell_type": "code",
   "execution_count": 16,
   "id": "ef97442e",
   "metadata": {},
   "outputs": [
    {
     "name": "stdout",
     "output_type": "stream",
     "text": [
      "Training set shape: (15286, 187)\n",
      "Testing set shape: (3822, 187)\n"
     ]
    }
   ],
   "source": [
    "# Split data into 80% training and 20% testing\n",
    "X_train, X_test, y_train, y_test = train_test_split(X, y, test_size=0.2, random_state=42, stratify=y)\n",
    "\n",
    "print(\"Training set shape:\", X_train.shape)\n",
    "print(\"Testing set shape:\", X_test.shape)"
   ]
  },
  {
   "cell_type": "code",
   "execution_count": 17,
   "id": "0e40a2f4",
   "metadata": {},
   "outputs": [
    {
     "name": "stdout",
     "output_type": "stream",
     "text": [
      "Baseline Accuracy: 0.6431187859759289\n"
     ]
    }
   ],
   "source": [
    "# Baseline: Predict winner based only on rating difference\n",
    "# 1 if white has higher rating, -1 if black has higher rating\n",
    "baseline_preds = np.sign(X_test['rating_difference'])\n",
    "\n",
    "# Note: This simple baseline can't predict draws (0), so we'll replace 0s with 1 (predicting a white win).\n",
    "baseline_preds[baseline_preds == 0] = 1\n",
    "\n",
    "# Evaluate the baseline\n",
    "print(\"Baseline Accuracy:\", accuracy_score(y_test, baseline_preds))"
   ]
  },
  {
   "cell_type": "code",
   "execution_count": 18,
   "id": "4d348add",
   "metadata": {},
   "outputs": [
    {
     "name": "stdout",
     "output_type": "stream",
     "text": [
      "\n",
      "Logistic Regression Performance:\n",
      "              precision    recall  f1-score   support\n",
      "\n",
      "        -1.0       0.64      0.59      0.61      1822\n",
      "         1.0       0.65      0.70      0.67      2000\n",
      "\n",
      "    accuracy                           0.64      3822\n",
      "   macro avg       0.64      0.64      0.64      3822\n",
      "weighted avg       0.64      0.64      0.64      3822\n",
      "\n"
     ]
    },
    {
     "data": {
      "image/png": "[encoded data removed]",
      "text/plain": [
       "<Figure size 640x480 with 2 Axes>"
      ]
     },
     "metadata": {},
     "output_type": "display_data"
    }
   ],
   "source": [
    "# Initialize and train the Logistic Regression model\n",
    "log_reg = LogisticRegression(max_iter=10000) # max_iter might be needed for convergence\n",
    "log_reg.fit(X_train, y_train)\n",
    "\n",
    "# Make predictions\n",
    "y_pred_log = log_reg.predict(X_test)\n",
    "\n",
    "# Evaluate the model\n",
    "print(\"\\nLogistic Regression Performance:\")\n",
    "print(classification_report(y_test, y_pred_log))\n",
    "\n",
    "# Visualize the Confusion Matrix\n",
    "cm = confusion_matrix(y_test, y_pred_log)\n",
    "sns.heatmap(cm, annot=True, fmt='d', xticklabels=['Black', 'Draw', 'White'], yticklabels=['Black', 'Draw', 'White'])\n",
    "plt.ylabel('Actual')\n",
    "plt.xlabel('Predicted')\n",
    "plt.title('Logistic Regression Confusion Matrix')\n",
    "plt.show()"
   ]
  },
  {
   "cell_type": "code",
   "execution_count": 19,
   "id": "ac6e1d14",
   "metadata": {},
   "outputs": [
    {
     "name": "stdout",
     "output_type": "stream",
     "text": [
      "\n",
      "Random Forest Performance:\n",
      "              precision    recall  f1-score   support\n",
      "\n",
      "        -1.0       0.63      0.62      0.63      1822\n",
      "         1.0       0.66      0.67      0.66      2000\n",
      "\n",
      "    accuracy                           0.65      3822\n",
      "   macro avg       0.65      0.65      0.65      3822\n",
      "weighted avg       0.65      0.65      0.65      3822\n",
      "\n"
     ]
    },
    {
     "data": {
      "image/png": "[encoded data removed]",
      "text/plain": [
       "<Figure size 640x480 with 2 Axes>"
      ]
     },
     "metadata": {},
     "output_type": "display_data"
    }
   ],
   "source": [
    "# Initialize and train the Random Forest model\n",
    "rf_clf = RandomForestClassifier(n_estimators=100, random_state=3, n_jobs=-1)\n",
    "rf_clf.fit(X_train, y_train)\n",
    "\n",
    "# Make predictions\n",
    "y_pred_rf = rf_clf.predict(X_test)\n",
    "\n",
    "# Evaluate the model\n",
    "print(\"\\nRandom Forest Performance:\")\n",
    "print(classification_report(y_test, y_pred_rf))\n",
    "\n",
    "# Visualize the Confusion Matrix\n",
    "cm_rf = confusion_matrix(y_test, y_pred_rf)\n",
    "sns.heatmap(cm_rf, annot=True, fmt='d', xticklabels=['Black', 'Draw', 'White'], yticklabels=['Black', 'Draw', 'White'])\n",
    "plt.ylabel('Actual')\n",
    "plt.xlabel('Predicted')\n",
    "plt.title('Random Forest Confusion Matrix')\n",
    "plt.show()"
   ]
  },
  {
   "cell_type": "code",
   "execution_count": 20,
   "id": "b46b8548",
   "metadata": {},
   "outputs": [
    {
     "data": {
      "image/png": "[encoded data removed]",
      "text/plain": [
       "<Figure size 1000x800 with 1 Axes>"
      ]
     },
     "metadata": {},
     "output_type": "display_data"
    }
   ],
   "source": [
    "# Extract feature importances from the trained Random Forest model\n",
    "importances = rf_clf.feature_importances_\n",
    "feature_names = X_train.columns\n",
    "\n",
    "# Create a DataFrame for visualization\n",
    "feature_importance_df = pd.DataFrame({'feature': feature_names, 'importance': importances})\n",
    "\n",
    "# Sort by importance and plot the top 20 features\n",
    "top_20_features = feature_importance_df.sort_values(by='importance', ascending=False).head(20)\n",
    "\n",
    "plt.figure(figsize=(10, 8))\n",
    "sns.barplot(x='importance', y='feature', data=top_20_features)\n",
    "plt.title('Top 20 Feature Importances from Random Forest')\n",
    "plt.show()"
   ]
  },
  {
   "cell_type": "code",
   "execution_count": 21,
   "id": "62bd20a4",
   "metadata": {},
   "outputs": [
    {
     "name": "stdout",
     "output_type": "stream",
     "text": [
      "\n",
      "Random Forest Performance with SMOTE:\n",
      "              precision    recall  f1-score   support\n",
      "\n",
      "        -1.0       0.62      0.66      0.64      1822\n",
      "         1.0       0.67      0.63      0.65      2000\n",
      "\n",
      "    accuracy                           0.64      3822\n",
      "   macro avg       0.64      0.64      0.64      3822\n",
      "weighted avg       0.65      0.64      0.64      3822\n",
      "\n"
     ]
    }
   ],
   "source": [
    "from imblearn.over_sampling import SMOTE\n",
    "from imblearn.pipeline import Pipeline\n",
    "\n",
    "# Define the model\n",
    "rf_model = RandomForestClassifier(n_estimators=100, random_state=42, n_jobs=-1)\n",
    "\n",
    "# Define the SMOTE strategy\n",
    "smote = SMOTE(random_state=42)\n",
    "\n",
    "# Create a pipeline that first applies SMOTE and then trains the classifier\n",
    "pipeline = Pipeline([('smote', smote), ('classifier', rf_model)])\n",
    "\n",
    "# Train the model using the pipeline\n",
    "pipeline.fit(X_train, y_train)\n",
    "\n",
    "# Make predictions\n",
    "y_pred_smote = pipeline.predict(X_test)\n",
    "\n",
    "# Evaluate the SMOTE model\n",
    "print(\"\\nRandom Forest Performance with SMOTE:\")\n",
    "print(classification_report(y_test, y_pred_smote))"
   ]
  },
  {
   "cell_type": "code",
   "execution_count": 22,
   "id": "85e9f740",
   "metadata": {},
   "outputs": [
    {
     "name": "stdout",
     "output_type": "stream",
     "text": [
      "Fitting 3 folds for each of 18 candidates, totalling 54 fits\n",
      "[CV] END class_weight=balanced, max_depth=10, min_samples_leaf=1, n_estimators=100; total time=   0.6s\n",
      "[CV] END class_weight=balanced, max_depth=10, min_samples_leaf=1, n_estimators=100; total time=   0.6s\n",
      "[CV] END class_weight=balanced, max_depth=10, min_samples_leaf=1, n_estimators=100; total time=   0.6s\n",
      "[CV] END class_weight=balanced, max_depth=10, min_samples_leaf=2, n_estimators=100; total time=   0.5s\n",
      "[CV] END class_weight=balanced, max_depth=10, min_samples_leaf=2, n_estimators=100; total time=   0.5s\n",
      "[CV] END class_weight=balanced, max_depth=10, min_samples_leaf=1, n_estimators=200; total time=   1.1s\n",
      "[CV] END class_weight=balanced, max_depth=10, min_samples_leaf=1, n_estimators=200; total time=   1.1s\n",
      "[CV] END class_weight=balanced, max_depth=10, min_samples_leaf=2, n_estimators=100; total time=   0.6s\n",
      "[CV] END class_weight=balanced, max_depth=10, min_samples_leaf=1, n_estimators=200; total time=   1.1s\n",
      "[CV] END class_weight=balanced, max_depth=10, min_samples_leaf=4, n_estimators=100; total time=   0.6s\n",
      "[CV] END class_weight=balanced, max_depth=10, min_samples_leaf=4, n_estimators=100; total time=   0.5s\n",
      "[CV] END class_weight=balanced, max_depth=10, min_samples_leaf=2, n_estimators=200; total time=   1.0s\n",
      "[CV] END class_weight=balanced, max_depth=10, min_samples_leaf=4, n_estimators=100; total time=   0.5s\n",
      "[CV] END class_weight=balanced, max_depth=10, min_samples_leaf=2, n_estimators=200; total time=   1.0s\n",
      "[CV] END class_weight=balanced, max_depth=10, min_samples_leaf=2, n_estimators=200; total time=   1.1s\n",
      "[CV] END class_weight=balanced, max_depth=10, min_samples_leaf=4, n_estimators=200; total time=   1.0s\n",
      "[CV] END class_weight=balanced, max_depth=10, min_samples_leaf=4, n_estimators=200; total time=   1.0s\n",
      "[CV] END class_weight=balanced, max_depth=10, min_samples_leaf=4, n_estimators=200; total time=   1.1s\n",
      "[CV] END class_weight=balanced, max_depth=20, min_samples_leaf=1, n_estimators=100; total time=   0.9s\n",
      "[CV] END class_weight=balanced, max_depth=20, min_samples_leaf=1, n_estimators=100; total time=   1.0s\n",
      "[CV] END class_weight=balanced, max_depth=20, min_samples_leaf=1, n_estimators=100; total time=   1.0s\n",
      "[CV] END class_weight=balanced, max_depth=20, min_samples_leaf=2, n_estimators=100; total time=   0.9s\n",
      "[CV] END class_weight=balanced, max_depth=20, min_samples_leaf=2, n_estimators=100; total time=   0.9s\n",
      "[CV] END class_weight=balanced, max_depth=20, min_samples_leaf=2, n_estimators=100; total time=   0.9s\n",
      "[CV] END class_weight=balanced, max_depth=20, min_samples_leaf=1, n_estimators=200; total time=   1.9s\n",
      "[CV] END class_weight=balanced, max_depth=20, min_samples_leaf=1, n_estimators=200; total time=   1.9s\n",
      "[CV] END class_weight=balanced, max_depth=20, min_samples_leaf=1, n_estimators=200; total time=   1.9s\n",
      "[CV] END class_weight=balanced, max_depth=20, min_samples_leaf=4, n_estimators=100; total time=   0.9s\n",
      "[CV] END class_weight=balanced, max_depth=20, min_samples_leaf=4, n_estimators=100; total time=   1.0s\n",
      "[CV] END class_weight=balanced, max_depth=20, min_samples_leaf=4, n_estimators=100; total time=   0.9s\n",
      "[CV] END class_weight=balanced, max_depth=20, min_samples_leaf=2, n_estimators=200; total time=   1.9s\n",
      "[CV] END class_weight=balanced, max_depth=20, min_samples_leaf=2, n_estimators=200; total time=   1.9s\n",
      "[CV] END class_weight=balanced, max_depth=20, min_samples_leaf=2, n_estimators=200; total time=   1.9s\n",
      "[CV] END class_weight=balanced, max_depth=20, min_samples_leaf=4, n_estimators=200; total time=   1.8s\n",
      "[CV] END class_weight=balanced, max_depth=20, min_samples_leaf=4, n_estimators=200; total time=   1.9s\n",
      "[CV] END class_weight=balanced, max_depth=20, min_samples_leaf=4, n_estimators=200; total time=   1.9s\n",
      "[CV] END class_weight=balanced, max_depth=None, min_samples_leaf=1, n_estimators=100; total time=   2.6s\n",
      "[CV] END class_weight=balanced, max_depth=None, min_samples_leaf=1, n_estimators=100; total time=   2.6s\n",
      "[CV] END class_weight=balanced, max_depth=None, min_samples_leaf=1, n_estimators=100; total time=   2.8s\n",
      "[CV] END class_weight=balanced, max_depth=None, min_samples_leaf=2, n_estimators=100; total time=   1.6s\n",
      "[CV] END class_weight=balanced, max_depth=None, min_samples_leaf=2, n_estimators=100; total time=   1.8s\n",
      "[CV] END class_weight=balanced, max_depth=None, min_samples_leaf=2, n_estimators=100; total time=   1.9s\n",
      "[CV] END class_weight=balanced, max_depth=None, min_samples_leaf=4, n_estimators=100; total time=   1.5s\n",
      "[CV] END class_weight=balanced, max_depth=None, min_samples_leaf=1, n_estimators=200; total time=   5.3s\n",
      "[CV] END class_weight=balanced, max_depth=None, min_samples_leaf=4, n_estimators=100; total time=   1.6s\n",
      "[CV] END class_weight=balanced, max_depth=None, min_samples_leaf=1, n_estimators=200; total time=   5.3s\n",
      "[CV] END class_weight=balanced, max_depth=None, min_samples_leaf=1, n_estimators=200; total time=   5.0s\n",
      "[CV] END class_weight=balanced, max_depth=None, min_samples_leaf=2, n_estimators=200; total time=   3.6s\n",
      "[CV] END class_weight=balanced, max_depth=None, min_samples_leaf=4, n_estimators=100; total time=   1.5s\n",
      "[CV] END class_weight=balanced, max_depth=None, min_samples_leaf=2, n_estimators=200; total time=   3.6s\n",
      "[CV] END class_weight=balanced, max_depth=None, min_samples_leaf=2, n_estimators=200; total time=   3.6s\n",
      "[CV] END class_weight=balanced, max_depth=None, min_samples_leaf=4, n_estimators=200; total time=   2.3s\n",
      "[CV] END class_weight=balanced, max_depth=None, min_samples_leaf=4, n_estimators=200; total time=   1.9s\n",
      "[CV] END class_weight=balanced, max_depth=None, min_samples_leaf=4, n_estimators=200; total time=   2.0s\n",
      "\n",
      "Best Parameters found by Grid Search: {'class_weight': 'balanced', 'max_depth': 20, 'min_samples_leaf': 1, 'n_estimators': 200}\n",
      "Best macro F1-score on validation set: 0.6509869627097981\n",
      "\n",
      "Final Tuned Random Forest Performance:\n",
      "              precision    recall  f1-score   support\n",
      "\n",
      "        -1.0       0.61      0.71      0.65      1822\n",
      "         1.0       0.69      0.58      0.63      2000\n",
      "\n",
      "    accuracy                           0.64      3822\n",
      "   macro avg       0.65      0.65      0.64      3822\n",
      "weighted avg       0.65      0.64      0.64      3822\n",
      "\n"
     ]
    }
   ],
   "source": [
    "# Define the parameter grid to search\n",
    "param_grid = {\n",
    "    'n_estimators': [100, 200],\n",
    "    'max_depth': [10, 20, None],\n",
    "    'min_samples_leaf': [1, 2, 4],\n",
    "    'class_weight': ['balanced'] # Keep the balanced setting!\n",
    "}\n",
    "\n",
    "# Initialize the Grid Search\n",
    "# Using n_jobs=-1 will use all your CPU cores to speed it up\n",
    "grid_search = GridSearchCV(estimator=RandomForestClassifier(random_state=42),\n",
    "                           param_grid=param_grid,\n",
    "                           cv=3, # 3-fold cross-validation\n",
    "                           n_jobs=-1,\n",
    "                           verbose=2,\n",
    "                           scoring='f1_macro') # 'f1_macro' is a great metric for imbalanced classes\n",
    "\n",
    "# Fit the grid search to the data\n",
    "grid_search.fit(X_train, y_train)\n",
    "\n",
    "# Get the best parameters and best score\n",
    "print(\"\\nBest Parameters found by Grid Search:\", grid_search.best_params_)\n",
    "print(\"Best macro F1-score on validation set:\", grid_search.best_score_)\n",
    "\n",
    "# Evaluate the best model on the test set\n",
    "best_rf = grid_search.best_estimator_\n",
    "y_pred_best = best_rf.predict(X_test)\n",
    "\n",
    "print(\"\\nFinal Tuned Random Forest Performance:\")\n",
    "print(classification_report(y_test, y_pred_best))"
   ]
  },
  {
   "cell_type": "code",
   "execution_count": 23,
   "id": "10df159c",
   "metadata": {},
   "outputs": [
    {
     "name": "stdout",
     "output_type": "stream",
     "text": [
      "\n",
      "Final Scaled & Tuned Random Forest Performance:\n",
      "              precision    recall  f1-score   support\n",
      "\n",
      "        -1.0       0.63      0.64      0.63      1822\n",
      "         1.0       0.67      0.66      0.66      2000\n",
      "\n",
      "    accuracy                           0.65      3822\n",
      "   macro avg       0.65      0.65      0.65      3822\n",
      "weighted avg       0.65      0.65      0.65      3822\n",
      "\n"
     ]
    }
   ],
   "source": [
    "from sklearn.preprocessing import StandardScaler\n",
    "from sklearn.pipeline import Pipeline\n",
    "\n",
    "# Create a pipeline that first scales the data, then runs the classifier.\n",
    "# We'll use your best Random Forest parameters from the Grid Search.\n",
    "pipeline_final = Pipeline([\n",
    "    ('scaler', StandardScaler()),\n",
    "    ('classifier', RandomForestClassifier(class_weight='balanced', \n",
    "                                         max_depth=None, \n",
    "                                         min_samples_leaf=2, \n",
    "                                         n_estimators=100,\n",
    "                                         random_state=42, \n",
    "                                         n_jobs=-1))\n",
    "])\n",
    "\n",
    "# Train the final pipeline\n",
    "pipeline_final.fit(X_train, y_train)\n",
    "\n",
    "# Evaluate the final model\n",
    "y_pred_final = pipeline_final.predict(X_test)\n",
    "\n",
    "print(\"\\nFinal Scaled & Tuned Random Forest Performance:\")\n",
    "print(classification_report(y_test, y_pred_final))"
   ]
  },
  {
   "cell_type": "code",
   "execution_count": null,
   "id": "6fe0dd84",
   "metadata": {},
   "outputs": [
    {
     "ename": "XGBoostError",
     "evalue": "\nXGBoost Library (libxgboost.dylib) could not be loaded.\nLikely causes:\n  * OpenMP runtime is not installed\n    - vcomp140.dll or libgomp-1.dll for Windows\n    - libomp.dylib for Mac OSX\n    - libgomp.so for Linux and other UNIX-like OSes\n    Mac OSX users: Run `brew install libomp` to install OpenMP runtime.\n\n  * You are running 32-bit Python on a 64-bit OS\n\nError message(s): [\"dlopen(/Library/Frameworks/Python.framework/Versions/3.13/lib/python3.13/site-packages/xgboost/lib/libxgboost.dylib, 0x0006): Library not loaded: @rpath/libomp.dylib\\n  Referenced from: <98D50080-9632-3EA4-B874-146E55453763> /Library/Frameworks/Python.framework/Versions/3.13/lib/python3.13/site-packages/xgboost/lib/libxgboost.dylib\\n  Reason: tried: '/opt/homebrew/opt/libomp/lib/libomp.dylib' (no such file), '/System/Volumes/Preboot/Cryptexes/OS/opt/homebrew/opt/libomp/lib/libomp.dylib' (no such file), '/opt/homebrew/opt/libomp/lib/libomp.dylib' (no such file), '/System/Volumes/Preboot/Cryptexes/OS/opt/homebrew/opt/libomp/lib/libomp.dylib' (no such file)\"]\n",
     "output_type": "error",
     "traceback": [
      "\u001b[31m---------------------------------------------------------------------------\u001b[39m",
      "\u001b[31mXGBoostError\u001b[39m                              Traceback (most recent call last)",
      "\u001b[36mCell\u001b[39m\u001b[36m \u001b[39m\u001b[32mIn[25]\u001b[39m\u001b[32m, line 1\u001b[39m\n\u001b[32m----> \u001b[39m\u001b[32m1\u001b[39m \u001b[38;5;28;01mfrom\u001b[39;00m\u001b[38;5;250m \u001b[39m\u001b[34;01mxgboost\u001b[39;00m\u001b[38;5;250m \u001b[39m\u001b[38;5;28;01mimport\u001b[39;00m XGBClassifier\n\u001b[32m      2\u001b[39m \u001b[38;5;28;01mfrom\u001b[39;00m\u001b[38;5;250m \u001b[39m\u001b[34;01msklearn\u001b[39;00m\u001b[34;01m.\u001b[39;00m\u001b[34;01mpipeline\u001b[39;00m\u001b[38;5;250m \u001b[39m\u001b[38;5;28;01mimport\u001b[39;00m Pipeline\n\u001b[32m      3\u001b[39m \u001b[38;5;28;01mfrom\u001b[39;00m\u001b[38;5;250m \u001b[39m\u001b[34;01msklearn\u001b[39;00m\u001b[34;01m.\u001b[39;00m\u001b[34;01mpreprocessing\u001b[39;00m\u001b[38;5;250m \u001b[39m\u001b[38;5;28;01mimport\u001b[39;00m StandardScaler\n",
      "\u001b[36mFile \u001b[39m\u001b[32m/Library/Frameworks/Python.framework/Versions/3.13/lib/python3.13/site-packages/xgboost/__init__.py:6\u001b[39m\n\u001b[32m      1\u001b[39m \u001b[33;03m\"\"\"XGBoost: eXtreme Gradient Boosting library.\u001b[39;00m\n\u001b[32m      2\u001b[39m \n\u001b[32m      3\u001b[39m \u001b[33;03mContributors: https://github.com/dmlc/xgboost/blob/master/CONTRIBUTORS.md\u001b[39;00m\n\u001b[32m      4\u001b[39m \u001b[33;03m\"\"\"\u001b[39;00m\n\u001b[32m----> \u001b[39m\u001b[32m6\u001b[39m \u001b[38;5;28;01mfrom\u001b[39;00m\u001b[38;5;250m \u001b[39m\u001b[34;01m.\u001b[39;00m\u001b[38;5;250m \u001b[39m\u001b[38;5;28;01mimport\u001b[39;00m tracker  \u001b[38;5;66;03m# noqa\u001b[39;00m\n\u001b[32m      7\u001b[39m \u001b[38;5;28;01mfrom\u001b[39;00m\u001b[38;5;250m \u001b[39m\u001b[34;01m.\u001b[39;00m\u001b[38;5;250m \u001b[39m\u001b[38;5;28;01mimport\u001b[39;00m collective\n\u001b[32m      8\u001b[39m \u001b[38;5;28;01mfrom\u001b[39;00m\u001b[38;5;250m \u001b[39m\u001b[34;01m.\u001b[39;00m\u001b[34;01mcore\u001b[39;00m\u001b[38;5;250m \u001b[39m\u001b[38;5;28;01mimport\u001b[39;00m (\n\u001b[32m      9\u001b[39m     Booster,\n\u001b[32m     10\u001b[39m     DataIter,\n\u001b[32m   (...)\u001b[39m\u001b[32m     15\u001b[39m     build_info,\n\u001b[32m     16\u001b[39m )\n",
      "\u001b[36mFile \u001b[39m\u001b[32m/Library/Frameworks/Python.framework/Versions/3.13/lib/python3.13/site-packages/xgboost/tracker.py:9\u001b[39m\n\u001b[32m      6\u001b[39m \u001b[38;5;28;01mfrom\u001b[39;00m\u001b[38;5;250m \u001b[39m\u001b[34;01menum\u001b[39;00m\u001b[38;5;250m \u001b[39m\u001b[38;5;28;01mimport\u001b[39;00m IntEnum, unique\n\u001b[32m      7\u001b[39m \u001b[38;5;28;01mfrom\u001b[39;00m\u001b[38;5;250m \u001b[39m\u001b[34;01mtyping\u001b[39;00m\u001b[38;5;250m \u001b[39m\u001b[38;5;28;01mimport\u001b[39;00m Dict, Optional, Union\n\u001b[32m----> \u001b[39m\u001b[32m9\u001b[39m \u001b[38;5;28;01mfrom\u001b[39;00m\u001b[38;5;250m \u001b[39m\u001b[34;01m.\u001b[39;00m\u001b[34;01mcore\u001b[39;00m\u001b[38;5;250m \u001b[39m\u001b[38;5;28;01mimport\u001b[39;00m _LIB, _check_call, _deprecate_positional_args, make_jcargs\n\u001b[32m     12\u001b[39m \u001b[38;5;28;01mdef\u001b[39;00m\u001b[38;5;250m \u001b[39m\u001b[34mget_family\u001b[39m(addr: \u001b[38;5;28mstr\u001b[39m) -> \u001b[38;5;28mint\u001b[39m:\n\u001b[32m     13\u001b[39m \u001b[38;5;250m    \u001b[39m\u001b[33;03m\"\"\"Get network family from address.\"\"\"\u001b[39;00m\n",
      "\u001b[36mFile \u001b[39m\u001b[32m/Library/Frameworks/Python.framework/Versions/3.13/lib/python3.13/site-packages/xgboost/core.py:295\u001b[39m\n\u001b[32m    291\u001b[39m     \u001b[38;5;28;01mreturn\u001b[39;00m lib\n\u001b[32m    294\u001b[39m \u001b[38;5;66;03m# load the XGBoost library globally\u001b[39;00m\n\u001b[32m--> \u001b[39m\u001b[32m295\u001b[39m _LIB = \u001b[43m_load_lib\u001b[49m\u001b[43m(\u001b[49m\u001b[43m)\u001b[49m\n\u001b[32m    298\u001b[39m \u001b[38;5;28;01mdef\u001b[39;00m\u001b[38;5;250m \u001b[39m\u001b[34m_check_call\u001b[39m(ret: \u001b[38;5;28mint\u001b[39m) -> \u001b[38;5;28;01mNone\u001b[39;00m:\n\u001b[32m    299\u001b[39m \u001b[38;5;250m    \u001b[39m\u001b[33;03m\"\"\"Check the return value of C API call\u001b[39;00m\n\u001b[32m    300\u001b[39m \n\u001b[32m    301\u001b[39m \u001b[33;03m    This function will raise exception when error occurs.\u001b[39;00m\n\u001b[32m   (...)\u001b[39m\u001b[32m    307\u001b[39m \u001b[33;03m        return value from API calls\u001b[39;00m\n\u001b[32m    308\u001b[39m \u001b[33;03m    \"\"\"\u001b[39;00m\n",
      "\u001b[36mFile \u001b[39m\u001b[32m/Library/Frameworks/Python.framework/Versions/3.13/lib/python3.13/site-packages/xgboost/core.py:257\u001b[39m, in \u001b[36m_load_lib\u001b[39m\u001b[34m()\u001b[39m\n\u001b[32m    255\u001b[39m     \u001b[38;5;28;01mif\u001b[39;00m \u001b[38;5;129;01mnot\u001b[39;00m lib_success:\n\u001b[32m    256\u001b[39m         libname = os.path.basename(lib_paths[\u001b[32m0\u001b[39m])\n\u001b[32m--> \u001b[39m\u001b[32m257\u001b[39m         \u001b[38;5;28;01mraise\u001b[39;00m XGBoostError(\n\u001b[32m    258\u001b[39m             \u001b[33mf\u001b[39m\u001b[33m\"\"\"\u001b[39m\n\u001b[32m    259\u001b[39m \u001b[33mXGBoost Library (\u001b[39m\u001b[38;5;132;01m{\u001b[39;00mlibname\u001b[38;5;132;01m}\u001b[39;00m\u001b[33m) could not be loaded.\u001b[39m\n\u001b[32m    260\u001b[39m \u001b[33mLikely causes:\u001b[39m\n\u001b[32m    261\u001b[39m \u001b[33m  * OpenMP runtime is not installed\u001b[39m\n\u001b[32m    262\u001b[39m \u001b[33m    - vcomp140.dll or libgomp-1.dll for Windows\u001b[39m\n\u001b[32m    263\u001b[39m \u001b[33m    - libomp.dylib for Mac OSX\u001b[39m\n\u001b[32m    264\u001b[39m \u001b[33m    - libgomp.so for Linux and other UNIX-like OSes\u001b[39m\n\u001b[32m    265\u001b[39m \u001b[33m    Mac OSX users: Run `brew install libomp` to install OpenMP runtime.\u001b[39m\n\u001b[32m    266\u001b[39m \n\u001b[32m    267\u001b[39m \u001b[33m  * You are running 32-bit Python on a 64-bit OS\u001b[39m\n\u001b[32m    268\u001b[39m \n\u001b[32m    269\u001b[39m \u001b[33mError message(s): \u001b[39m\u001b[38;5;132;01m{\u001b[39;00mos_error_list\u001b[38;5;132;01m}\u001b[39;00m\n\u001b[32m    270\u001b[39m \u001b[33m\"\"\"\u001b[39m\n\u001b[32m    271\u001b[39m         )\n\u001b[32m    272\u001b[39m     _register_log_callback(lib)\n\u001b[32m    274\u001b[39m     libver = _lib_version(lib)\n",
      "\u001b[31mXGBoostError\u001b[39m: \nXGBoost Library (libxgboost.dylib) could not be loaded.\nLikely causes:\n  * OpenMP runtime is not installed\n    - vcomp140.dll or libgomp-1.dll for Windows\n    - libomp.dylib for Mac OSX\n    - libgomp.so for Linux and other UNIX-like OSes\n    Mac OSX users: Run `brew install libomp` to install OpenMP runtime.\n\n  * You are running 32-bit Python on a 64-bit OS\n\nError message(s): [\"dlopen(/Library/Frameworks/Python.framework/Versions/3.13/lib/python3.13/site-packages/xgboost/lib/libxgboost.dylib, 0x0006): Library not loaded: @rpath/libomp.dylib\\n  Referenced from: <98D50080-9632-3EA4-B874-146E55453763> /Library/Frameworks/Python.framework/Versions/3.13/lib/python3.13/site-packages/xgboost/lib/libxgboost.dylib\\n  Reason: tried: '/opt/homebrew/opt/libomp/lib/libomp.dylib' (no such file), '/System/Volumes/Preboot/Cryptexes/OS/opt/homebrew/opt/libomp/lib/libomp.dylib' (no such file), '/opt/homebrew/opt/libomp/lib/libomp.dylib' (no such file), '/System/Volumes/Preboot/Cryptexes/OS/opt/homebrew/opt/libomp/lib/libomp.dylib' (no such file)\"]\n"
     ]
    }
   ],
   "source": [
    "from xgboost import XGBClassifier\n",
    "from sklearn.pipeline import Pipeline\n",
    "from sklearn.preprocessing import StandardScaler\n",
    "from sklearn.metrics import classification_report\n",
    "\n",
    "# Create a pipeline that first scales the data, then runs the XGBoost classifier.\n",
    "# We include two common parameters to ensure smooth operation.\n",
    "pipeline_xgb = Pipeline([\n",
    "    ('scaler', StandardScaler()),\n",
    "    ('classifier', XGBClassifier(random_state=42, use_label_encoder=False, eval_metric='mlogloss'))\n",
    "])\n",
    "\n",
    "# Train the XGBoost model on your data\n",
    "print(\"Training XGBoost model...\")\n",
    "pipeline_xgb.fit(X_train, y_train)\n",
    "\n",
    "# Evaluate the XGBoost model\n",
    "print(\"\\nEvaluating XGBoost model...\")\n",
    "y_pred_xgb = pipeline_xgb.predict(X_test)\n",
    "\n",
    "print(\"\\nXGBoost Performance:\")\n",
    "print(classification_report(y_test, y_pred_xgb))"
   ]
  },
  {
   "cell_type": "code",
   "execution_count": null,
   "id": "5b939225",
   "metadata": {},
   "outputs": [],
   "source": [
    "import lightgbm as lgb\n",
    "\n",
    "# Initialize and train a LightGBM model\n",
    "# It also supports class_weight='balanced'\n",
    "lgbm = lgb.LGBMClassifier(class_weight='balanced', random_state=42)\n",
    "\n",
    "# We can put this in the same scaling pipeline\n",
    "pipeline_lgbm = Pipeline([\n",
    "    ('scaler', StandardScaler()),\n",
    "    ('classifier', lgbm)\n",
    "])\n",
    "\n",
    "pipeline_lgbm.fit(X_train, y_train)\n",
    "\n",
    "# Evaluate the LightGBM model\n",
    "y_pred_lgbm = pipeline_lgbm.predict(X_test)\n",
    "\n",
    "print(\"\\nLightGBM Performance:\")\n",
    "print(classification_report(y_test, y_pred_lgbm))"
   ]
  }
 ],
 "metadata": {
  "kernelspec": {
   "display_name": "Python 3",
   "language": "python",
   "name": "python3"
  },
  "language_info": {
   "codemirror_mode": {
    "name": "ipython",
    "version": 3
   },
   "file_extension": ".py",
   "mimetype": "text/x-python",
   "name": "python",
   "nbconvert_exporter": "python",
   "pygments_lexer": "ipython3",
   "version": "3.13.3"
  }
 },
 "nbformat": 4,
 "nbformat_minor": 5
}
